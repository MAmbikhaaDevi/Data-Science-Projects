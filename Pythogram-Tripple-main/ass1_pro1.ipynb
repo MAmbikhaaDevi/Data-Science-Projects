{
 "cells": [
  {
   "cell_type": "code",
   "execution_count": 1,
   "id": "e9601b0c",
   "metadata": {},
   "outputs": [
    {
     "name": "stdout",
     "output_type": "stream",
     "text": [
      "Type Lenght of perpendicular and press return3\n"
     ]
    }
   ],
   "source": [
    "num1=int(input(\"Type Lenght of perpendicular and press return\"))"
   ]
  },
  {
   "cell_type": "code",
   "execution_count": 2,
   "id": "b2c93cfe",
   "metadata": {},
   "outputs": [
    {
     "name": "stdout",
     "output_type": "stream",
     "text": [
      "Type Lenght of base and press return4\n"
     ]
    }
   ],
   "source": [
    "num2=int(input(\"Type Lenght of base and press return\"))"
   ]
  },
  {
   "cell_type": "code",
   "execution_count": 3,
   "id": "9213a462",
   "metadata": {},
   "outputs": [
    {
     "name": "stdout",
     "output_type": "stream",
     "text": [
      "Type Lenght of hypotneuse and press return5\n"
     ]
    }
   ],
   "source": [
    "num3=int(input(\"Type Lenght of hypotneuse and press return\"))"
   ]
  },
  {
   "cell_type": "code",
   "execution_count": 4,
   "id": "7ff58712",
   "metadata": {},
   "outputs": [],
   "source": [
    "calculate_hypotenues_sqr=(num1**2)+(num2**2)"
   ]
  },
  {
   "cell_type": "code",
   "execution_count": 5,
   "id": "9d00a348",
   "metadata": {},
   "outputs": [
    {
     "name": "stdout",
     "output_type": "stream",
     "text": [
      "The Answer is : 25\n"
     ]
    }
   ],
   "source": [
    "print(\"The Answer is :\",calculate_hypotenues_sqr)"
   ]
  },
  {
   "cell_type": "code",
   "execution_count": 6,
   "id": "acdfe818",
   "metadata": {},
   "outputs": [],
   "source": [
    "calculate_hypotenues_sqr3=(num3**2)"
   ]
  },
  {
   "cell_type": "code",
   "execution_count": 7,
   "id": "02d3a636",
   "metadata": {},
   "outputs": [
    {
     "name": "stdout",
     "output_type": "stream",
     "text": [
      "The Answer is : 25\n"
     ]
    }
   ],
   "source": [
    "print(\"The Answer is :\",calculate_hypotenues_sqr3)"
   ]
  },
  {
   "cell_type": "code",
   "execution_count": 8,
   "id": "504646be",
   "metadata": {},
   "outputs": [
    {
     "name": "stdout",
     "output_type": "stream",
     "text": [
      "It is Pythogram Tripple\n"
     ]
    }
   ],
   "source": [
    "if calculate_hypotenues_sqr==calculate_hypotenues_sqr3:\n",
    "    print(\"It is Pythogram Tripple\")\n",
    "else:\n",
    "    print(\"It is Not Pythogram Tripple\")"
   ]
  },
  {
   "cell_type": "code",
   "execution_count": null,
   "id": "0438f16c",
   "metadata": {},
   "outputs": [],
   "source": []
  }
 ],
 "metadata": {
  "kernelspec": {
   "display_name": "Python 3 (ipykernel)",
   "language": "python",
   "name": "python3"
  },
  "language_info": {
   "codemirror_mode": {
    "name": "ipython",
    "version": 3
   },
   "file_extension": ".py",
   "mimetype": "text/x-python",
   "name": "python",
   "nbconvert_exporter": "python",
   "pygments_lexer": "ipython3",
   "version": "3.10.9"
  }
 },
 "nbformat": 4,
 "nbformat_minor": 5
}
