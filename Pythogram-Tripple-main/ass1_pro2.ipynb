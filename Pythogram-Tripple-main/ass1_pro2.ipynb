{
 "cells": [
  {
   "cell_type": "code",
   "execution_count": 1,
   "id": "a4ccfb79",
   "metadata": {},
   "outputs": [
    {
     "name": "stdout",
     "output_type": "stream",
     "text": [
      "Enter A Number10\n"
     ]
    }
   ],
   "source": [
    "num=int(input(\"Enter A Number\"))"
   ]
  },
  {
   "cell_type": "code",
   "execution_count": 2,
   "id": "dbbd6209",
   "metadata": {},
   "outputs": [],
   "source": [
    "cubic=num**3"
   ]
  },
  {
   "cell_type": "code",
   "execution_count": 3,
   "id": "8074c805",
   "metadata": {},
   "outputs": [
    {
     "name": "stdout",
     "output_type": "stream",
     "text": [
      "Cube is : 1000\n"
     ]
    }
   ],
   "source": [
    "print(\"Cube is :\",cubic)"
   ]
  },
  {
   "cell_type": "code",
   "execution_count": null,
   "id": "04a57aab",
   "metadata": {},
   "outputs": [],
   "source": []
  }
 ],
 "metadata": {
  "kernelspec": {
   "display_name": "Python 3 (ipykernel)",
   "language": "python",
   "name": "python3"
  },
  "language_info": {
   "codemirror_mode": {
    "name": "ipython",
    "version": 3
   },
   "file_extension": ".py",
   "mimetype": "text/x-python",
   "name": "python",
   "nbconvert_exporter": "python",
   "pygments_lexer": "ipython3",
   "version": "3.10.9"
  }
 },
 "nbformat": 4,
 "nbformat_minor": 5
}
